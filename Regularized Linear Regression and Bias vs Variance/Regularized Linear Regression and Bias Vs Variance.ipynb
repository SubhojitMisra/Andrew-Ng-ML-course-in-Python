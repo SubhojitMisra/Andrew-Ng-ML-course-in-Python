{
 "cells": [
  {
   "cell_type": "code",
   "execution_count": 1,
   "metadata": {},
   "outputs": [],
   "source": [
    "from scipy.io import loadmat\n",
    "import numpy as np\n",
    "import pandas as pd\n",
    "import seaborn as sns\n",
    "import matplotlib.pyplot as plt\n",
    "%matplotlib inline"
   ]
  },
  {
   "cell_type": "code",
   "execution_count": 2,
   "metadata": {},
   "outputs": [
    {
     "data": {
      "text/plain": [
       "dict_keys(['__header__', '__version__', '__globals__', 'X', 'y', 'Xtest', 'ytest', 'Xval', 'yval'])"
      ]
     },
     "execution_count": 2,
     "metadata": {},
     "output_type": "execute_result"
    }
   ],
   "source": [
    "mat = loadmat('ex5data1.mat') #Loading the given file\n",
    "mat.keys() #getting the keys names"
   ]
  },
  {
   "cell_type": "code",
   "execution_count": 11,
   "metadata": {},
   "outputs": [
    {
     "data": {
      "text/plain": [
       "{'__header__': b'MATLAB 5.0 MAT-file, Platform: GLNXA64, Created on: Fri Nov  4 22:27:26 2011',\n",
       " '__version__': '1.0',\n",
       " '__globals__': [],\n",
       " 'X': array([[-15.93675813],\n",
       "        [-29.15297922],\n",
       "        [ 36.18954863],\n",
       "        [ 37.49218733],\n",
       "        [-48.05882945],\n",
       "        [ -8.94145794],\n",
       "        [ 15.30779289],\n",
       "        [-34.70626581],\n",
       "        [  1.38915437],\n",
       "        [-44.38375985],\n",
       "        [  7.01350208],\n",
       "        [ 22.76274892]]),\n",
       " 'y': array([[ 2.13431051],\n",
       "        [ 1.17325668],\n",
       "        [34.35910918],\n",
       "        [36.83795516],\n",
       "        [ 2.80896507],\n",
       "        [ 2.12107248],\n",
       "        [14.71026831],\n",
       "        [ 2.61418439],\n",
       "        [ 3.74017167],\n",
       "        [ 3.73169131],\n",
       "        [ 7.62765885],\n",
       "        [22.7524283 ]]),\n",
       " 'Xtest': array([[-33.31800399],\n",
       "        [-37.91216403],\n",
       "        [-51.20693795],\n",
       "        [ -6.13259585],\n",
       "        [ 21.26118327],\n",
       "        [-40.31952949],\n",
       "        [-14.54153167],\n",
       "        [ 32.55976024],\n",
       "        [ 13.39343255],\n",
       "        [ 44.20988595],\n",
       "        [ -1.14267768],\n",
       "        [-12.76686065],\n",
       "        [ 34.05450539],\n",
       "        [ 39.22350028],\n",
       "        [  1.97449674],\n",
       "        [ 29.6217551 ],\n",
       "        [-23.66962971],\n",
       "        [ -9.01180139],\n",
       "        [-55.94057091],\n",
       "        [-35.70859752],\n",
       "        [  9.51020533]]),\n",
       " 'ytest': array([[ 3.31688953],\n",
       "        [ 5.39768952],\n",
       "        [ 0.13042984],\n",
       "        [ 6.1925982 ],\n",
       "        [17.08848712],\n",
       "        [ 0.79950805],\n",
       "        [ 2.82479183],\n",
       "        [28.62123334],\n",
       "        [17.04639081],\n",
       "        [55.38437334],\n",
       "        [ 4.07936733],\n",
       "        [ 8.27039793],\n",
       "        [31.32355102],\n",
       "        [39.15906103],\n",
       "        [ 8.08727989],\n",
       "        [24.11134389],\n",
       "        [ 2.4773548 ],\n",
       "        [ 6.56606472],\n",
       "        [ 6.0380888 ],\n",
       "        [ 4.69273956],\n",
       "        [10.83004606]]),\n",
       " 'Xval': array([[-16.74653578],\n",
       "        [-14.57747075],\n",
       "        [ 34.51575866],\n",
       "        [-47.01007574],\n",
       "        [ 36.97511905],\n",
       "        [-40.68611002],\n",
       "        [ -4.47201098],\n",
       "        [ 26.53363489],\n",
       "        [-42.7976831 ],\n",
       "        [ 25.37409938],\n",
       "        [-31.10955398],\n",
       "        [ 27.31176864],\n",
       "        [ -3.26386201],\n",
       "        [ -1.81827649],\n",
       "        [-40.7196624 ],\n",
       "        [-50.01324365],\n",
       "        [-17.41177155],\n",
       "        [  3.5881937 ],\n",
       "        [  7.08548026],\n",
       "        [ 46.28236902],\n",
       "        [ 14.61228909]]),\n",
       " 'yval': array([[ 4.17020201e+00],\n",
       "        [ 4.06726280e+00],\n",
       "        [ 3.18730676e+01],\n",
       "        [ 1.06236562e+01],\n",
       "        [ 3.18360213e+01],\n",
       "        [ 4.95936972e+00],\n",
       "        [ 4.45159880e+00],\n",
       "        [ 2.22763185e+01],\n",
       "        [-4.38738274e-05],\n",
       "        [ 2.05038016e+01],\n",
       "        [ 3.85834476e+00],\n",
       "        [ 1.93650529e+01],\n",
       "        [ 4.88376281e+00],\n",
       "        [ 1.10971588e+01],\n",
       "        [ 7.46170827e+00],\n",
       "        [ 1.47693464e+00],\n",
       "        [ 2.71916388e+00],\n",
       "        [ 1.09269007e+01],\n",
       "        [ 8.34871235e+00],\n",
       "        [ 5.27819280e+01],\n",
       "        [ 1.33573396e+01]])}"
      ]
     },
     "execution_count": 11,
     "metadata": {},
     "output_type": "execute_result"
    }
   ],
   "source": [
    "mat #getting an idea about the data"
   ]
  },
  {
   "cell_type": "code",
   "execution_count": 42,
   "metadata": {},
   "outputs": [
    {
     "data": {
      "text/html": [
       "<div>\n",
       "<style scoped>\n",
       "    .dataframe tbody tr th:only-of-type {\n",
       "        vertical-align: middle;\n",
       "    }\n",
       "\n",
       "    .dataframe tbody tr th {\n",
       "        vertical-align: top;\n",
       "    }\n",
       "\n",
       "    .dataframe thead th {\n",
       "        text-align: right;\n",
       "    }\n",
       "</style>\n",
       "<table border=\"1\" class=\"dataframe\">\n",
       "  <thead>\n",
       "    <tr style=\"text-align: right;\">\n",
       "      <th></th>\n",
       "      <th>water_level</th>\n",
       "      <th>water_flowing</th>\n",
       "    </tr>\n",
       "  </thead>\n",
       "  <tbody>\n",
       "    <tr>\n",
       "      <th>0</th>\n",
       "      <td>-15.936758</td>\n",
       "      <td>2.134311</td>\n",
       "    </tr>\n",
       "    <tr>\n",
       "      <th>1</th>\n",
       "      <td>-29.152979</td>\n",
       "      <td>1.173257</td>\n",
       "    </tr>\n",
       "    <tr>\n",
       "      <th>2</th>\n",
       "      <td>36.189549</td>\n",
       "      <td>34.359109</td>\n",
       "    </tr>\n",
       "    <tr>\n",
       "      <th>3</th>\n",
       "      <td>37.492187</td>\n",
       "      <td>36.837955</td>\n",
       "    </tr>\n",
       "    <tr>\n",
       "      <th>4</th>\n",
       "      <td>-48.058829</td>\n",
       "      <td>2.808965</td>\n",
       "    </tr>\n",
       "    <tr>\n",
       "      <th>5</th>\n",
       "      <td>-8.941458</td>\n",
       "      <td>2.121072</td>\n",
       "    </tr>\n",
       "    <tr>\n",
       "      <th>6</th>\n",
       "      <td>15.307793</td>\n",
       "      <td>14.710268</td>\n",
       "    </tr>\n",
       "    <tr>\n",
       "      <th>7</th>\n",
       "      <td>-34.706266</td>\n",
       "      <td>2.614184</td>\n",
       "    </tr>\n",
       "    <tr>\n",
       "      <th>8</th>\n",
       "      <td>1.389154</td>\n",
       "      <td>3.740172</td>\n",
       "    </tr>\n",
       "    <tr>\n",
       "      <th>9</th>\n",
       "      <td>-44.383760</td>\n",
       "      <td>3.731691</td>\n",
       "    </tr>\n",
       "    <tr>\n",
       "      <th>10</th>\n",
       "      <td>7.013502</td>\n",
       "      <td>7.627659</td>\n",
       "    </tr>\n",
       "    <tr>\n",
       "      <th>11</th>\n",
       "      <td>22.762749</td>\n",
       "      <td>22.752428</td>\n",
       "    </tr>\n",
       "  </tbody>\n",
       "</table>\n",
       "</div>"
      ],
      "text/plain": [
       "    water_level  water_flowing\n",
       "0    -15.936758       2.134311\n",
       "1    -29.152979       1.173257\n",
       "2     36.189549      34.359109\n",
       "3     37.492187      36.837955\n",
       "4    -48.058829       2.808965\n",
       "5     -8.941458       2.121072\n",
       "6     15.307793      14.710268\n",
       "7    -34.706266       2.614184\n",
       "8      1.389154       3.740172\n",
       "9    -44.383760       3.731691\n",
       "10     7.013502       7.627659\n",
       "11    22.762749      22.752428"
      ]
     },
     "execution_count": 42,
     "metadata": {},
     "output_type": "execute_result"
    }
   ],
   "source": [
    "df = pd.DataFrame(data = {'water_level': mat['X'].T[0], 'water_flowing': mat['y'].T[0]}) #this is to make a dataframe of the data for making the visualization easy\n",
    "df # in this data there is traing,cross validation and test data set, so we will take the traning data set first(i.e X and y) "
   ]
  },
  {
   "cell_type": "code",
   "execution_count": 15,
   "metadata": {},
   "outputs": [
    {
     "data": {
      "image/png": "[encoded data removed]",
      "text/plain": [
       "<Figure size 432x288 with 1 Axes>"
      ]
     },
     "metadata": {
      "needs_background": "light"
     },
     "output_type": "display_data"
    }
   ],
   "source": [
    "ax = sns.scatterplot(x='water_level', y='water_flowing', data=df) # this is to plot the training data set\n",
    "ax.set(xlabel='Change in water level', ylabel='Water flowing out of the dam', title='Dataset');"
   ]
  },
  {
   "cell_type": "code",
   "execution_count": 47,
   "metadata": {},
   "outputs": [],
   "source": [
    "#Regularized Linear Regression Cost Function\n",
    "def linear_regression_cost(X, y, theta, lambda_r):\n",
    "    m = X.shape[0]\n",
    "    h = np.dot(X,theta)\n",
    "    J = (1/(2*m)) * ((h-y).T.dot(h-y)) + (lambda_r/(2*m)) * np.sum(theta[1:,:]**2)\n",
    "    return J"
   ]
  },
  {
   "cell_type": "code",
   "execution_count": 56,
   "metadata": {},
   "outputs": [
    {
     "name": "stdout",
     "output_type": "stream",
     "text": [
      "Cost at theta = [1 ; 1]: [[303.99319222]] \n",
      "(this value should be about 303.993192)\n"
     ]
    }
   ],
   "source": [
    "m = len(df)\n",
    "X = np.hstack((np.ones((m,1)), df.water_level.values.reshape(-1,1))) #adding a column of 1s in front of the series\n",
    "y = df.water_flowing.values.reshape(-1,1) #making the data into one column\n",
    "theta = np.ones(shape=(X.shape[1],1))\n",
    "J = linear_regression_cost(X, y, theta, 1)\n",
    "print('Cost at theta = [1 ; 1]:', J, '\\n(this value should be about 303.993192)')"
   ]
  },
  {
   "cell_type": "code",
   "execution_count": 82,
   "metadata": {},
   "outputs": [],
   "source": [
    "#Regularized Linear Regression Gradient\n",
    "def linear_regression_cost_function(theta, X, y, lambda_r):\n",
    "    m = X.shape[0]\n",
    "    theta = theta[:, np.newaxis] # This increases the dimension by 1, i.e this converts a 1-D array to 2-D array\n",
    "    \n",
    "    h = X.dot(theta)\n",
    "    J = (1/(2*m)) * ((h-y).T.dot(h-y)) + (lambda_r/(2*m)) * np.sum(theta[1:,:]**2)\n",
    "    \n",
    "    grad = (1/m) * (h-y).T.dot(X) + (lambda_r/m) * theta.T\n",
    "    grad[0, 0] = (1/m) * (h-y).T.dot(X[:,0]) #as the regularization starts from theta1 not theta0\n",
    "    return J, grad"
   ]
  },
  {
   "cell_type": "code",
   "execution_count": 83,
   "metadata": {},
   "outputs": [
    {
     "name": "stdout",
     "output_type": "stream",
     "text": [
      "Gradient at theta = [1 ; 1]: [[-15.30301567 598.25074417]] \n",
      "(this value should be about [-15.303016; 598.250744]\n"
     ]
    }
   ],
   "source": [
    "theta = np.ones(shape=(X.shape[1]))\n",
    "J, grad = linear_regression_cost_function(theta, X, y, 1);\n",
    "print('Gradient at theta = [1 ; 1]:', grad, '\\n(this value should be about [-15.303016; 598.250744]')"
   ]
  },
  {
   "cell_type": "code",
   "execution_count": 84,
   "metadata": {},
   "outputs": [],
   "source": [
    "#Fitting Linear Regression\n",
    "import scipy.optimize as opt\n",
    "def train_linear_regression(X, y, lambda_r):\n",
    "    theta = np.ones(shape=(X.shape[1]))\n",
    "    opt_results = opt.minimize(linear_regression_cost_function, theta, args=(X, y, lambda_r), \n",
    "                                method='L-BFGS-B', jac=True, options={'maxiter':200}) #advance optimization technique, here we need a 2-d array of theta\n",
    "    return opt_results['x']"
   ]
  },
  {
   "cell_type": "code",
   "execution_count": 85,
   "metadata": {},
   "outputs": [],
   "source": [
    "lambda_r = 0\n",
    "theta_final = train_linear_regression(X, y, lambda_r)"
   ]
  },
  {
   "cell_type": "code",
   "execution_count": 87,
   "metadata": {},
   "outputs": [
    {
     "data": {
      "image/png": "[encoded data removed]",
      "text/plain": [
       "<Figure size 432x288 with 1 Axes>"
      ]
     },
     "metadata": {
      "needs_background": "light"
     },
     "output_type": "display_data"
    }
   ],
   "source": [
    "ax = sns.scatterplot(x='water_level', y='water_flowing', data=df)\n",
    "plt.plot(X[:,1], np.dot(X,theta_final), color='r')\n",
    "ax.set(xlabel='Change in water level', ylabel='Water flowing out of the dam', title='Linear Fit');"
   ]
  },
  {
   "cell_type": "markdown",
   "metadata": {},
   "source": [
    "# Bias vs Variance"
   ]
  },
  {
   "cell_type": "code",
   "execution_count": 89,
   "metadata": {},
   "outputs": [
    {
     "data": {
      "text/html": [
       "<div>\n",
       "<style scoped>\n",
       "    .dataframe tbody tr th:only-of-type {\n",
       "        vertical-align: middle;\n",
       "    }\n",
       "\n",
       "    .dataframe tbody tr th {\n",
       "        vertical-align: top;\n",
       "    }\n",
       "\n",
       "    .dataframe thead th {\n",
       "        text-align: right;\n",
       "    }\n",
       "</style>\n",
       "<table border=\"1\" class=\"dataframe\">\n",
       "  <thead>\n",
       "    <tr style=\"text-align: right;\">\n",
       "      <th></th>\n",
       "      <th>0</th>\n",
       "      <th>1</th>\n",
       "      <th>2</th>\n",
       "      <th>3</th>\n",
       "      <th>4</th>\n",
       "      <th>5</th>\n",
       "      <th>6</th>\n",
       "      <th>7</th>\n",
       "      <th>8</th>\n",
       "      <th>9</th>\n",
       "      <th>...</th>\n",
       "      <th>11</th>\n",
       "      <th>12</th>\n",
       "      <th>13</th>\n",
       "      <th>14</th>\n",
       "      <th>15</th>\n",
       "      <th>16</th>\n",
       "      <th>17</th>\n",
       "      <th>18</th>\n",
       "      <th>19</th>\n",
       "      <th>20</th>\n",
       "    </tr>\n",
       "  </thead>\n",
       "  <tbody>\n",
       "    <tr>\n",
       "      <th>water_level</th>\n",
       "      <td>-16.746536</td>\n",
       "      <td>-14.577471</td>\n",
       "      <td>34.515759</td>\n",
       "      <td>-47.010076</td>\n",
       "      <td>36.975119</td>\n",
       "      <td>-40.68611</td>\n",
       "      <td>-4.472011</td>\n",
       "      <td>26.533635</td>\n",
       "      <td>-42.797683</td>\n",
       "      <td>25.374099</td>\n",
       "      <td>...</td>\n",
       "      <td>27.311769</td>\n",
       "      <td>-3.263862</td>\n",
       "      <td>-1.818276</td>\n",
       "      <td>-40.719662</td>\n",
       "      <td>-50.013244</td>\n",
       "      <td>-17.411772</td>\n",
       "      <td>3.588194</td>\n",
       "      <td>7.085480</td>\n",
       "      <td>46.282369</td>\n",
       "      <td>14.612289</td>\n",
       "    </tr>\n",
       "    <tr>\n",
       "      <th>water_flowing</th>\n",
       "      <td>4.170202</td>\n",
       "      <td>4.067263</td>\n",
       "      <td>31.873068</td>\n",
       "      <td>10.623656</td>\n",
       "      <td>31.836021</td>\n",
       "      <td>4.95937</td>\n",
       "      <td>4.451599</td>\n",
       "      <td>22.276318</td>\n",
       "      <td>-0.000044</td>\n",
       "      <td>20.503802</td>\n",
       "      <td>...</td>\n",
       "      <td>19.365053</td>\n",
       "      <td>4.883763</td>\n",
       "      <td>11.097159</td>\n",
       "      <td>7.461708</td>\n",
       "      <td>1.476935</td>\n",
       "      <td>2.719164</td>\n",
       "      <td>10.926901</td>\n",
       "      <td>8.348712</td>\n",
       "      <td>52.781928</td>\n",
       "      <td>13.357340</td>\n",
       "    </tr>\n",
       "  </tbody>\n",
       "</table>\n",
       "<p>2 rows × 21 columns</p>\n",
       "</div>"
      ],
      "text/plain": [
       "                      0          1          2          3          4   \\\n",
       "water_level   -16.746536 -14.577471  34.515759 -47.010076  36.975119   \n",
       "water_flowing   4.170202   4.067263  31.873068  10.623656  31.836021   \n",
       "\n",
       "                     5         6          7          8          9   ...  \\\n",
       "water_level   -40.68611 -4.472011  26.533635 -42.797683  25.374099  ...   \n",
       "water_flowing   4.95937  4.451599  22.276318  -0.000044  20.503802  ...   \n",
       "\n",
       "                      11        12         13         14         15  \\\n",
       "water_level    27.311769 -3.263862  -1.818276 -40.719662 -50.013244   \n",
       "water_flowing  19.365053  4.883763  11.097159   7.461708   1.476935   \n",
       "\n",
       "                      16         17        18         19         20  \n",
       "water_level   -17.411772   3.588194  7.085480  46.282369  14.612289  \n",
       "water_flowing   2.719164  10.926901  8.348712  52.781928  13.357340  \n",
       "\n",
       "[2 rows x 21 columns]"
      ]
     },
     "execution_count": 89,
     "metadata": {},
     "output_type": "execute_result"
    }
   ],
   "source": [
    "#Learning Curves\n",
    "df_val = pd.DataFrame(data = {'water_level': mat['Xval'].T[0], 'water_flowing': mat['yval'].T[0]}) #getting the cross validation set\n",
    "df_val.T"
   ]
  },
  {
   "cell_type": "code",
   "execution_count": 93,
   "metadata": {},
   "outputs": [],
   "source": [
    "Xval = df_val.water_level.values.reshape(-1,1)\n",
    "Xval = np.hstack((np.ones((Xval.shape[0],1)), Xval))\n",
    "yval = df_val.water_flowing.values.reshape(-1,1)"
   ]
  },
  {
   "cell_type": "code",
   "execution_count": 102,
   "metadata": {},
   "outputs": [],
   "source": [
    "def learning_curve(X, y, Xval, yval, lambda_r):\n",
    "    m = X.shape[0]\n",
    "    error_train = np.zeros((m,1))\n",
    "    error_val = np.zeros((m,1)) #Initialization of training and validation error series\n",
    "    for i in range(1,m):\n",
    "        theta = train_linear_regression(X[:i, :], y[:i], lambda_r)\n",
    "        error_train[i], _ = linear_regression_cost_function(theta, X[:i,:], y[:i], 0) #calculation of cost with lambda=0\n",
    "        error_val[i], _ = linear_regression_cost_function(theta, Xval, yval, 0)\n",
    "    return error_train, error_val"
   ]
  },
  {
   "cell_type": "code",
   "execution_count": 103,
   "metadata": {},
   "outputs": [],
   "source": [
    "lambda_r = 0\n",
    "error_train, error_val = learning_curve(X, y, Xval, yval, lambda_r)"
   ]
  },
  {
   "cell_type": "code",
   "execution_count": 118,
   "metadata": {},
   "outputs": [
    {
     "data": {
      "image/png": "[encoded data removed]",
      "text/plain": [
       "<Figure size 432x288 with 1 Axes>"
      ]
     },
     "metadata": {
      "needs_background": "light"
     },
     "output_type": "display_data"
    }
   ],
   "source": [
    "sns.lineplot(x=range(1,m), y=error_train.T[0][1:])\n",
    "ax = sns.lineplot(x=range(1,m), y=error_val.T[0][1:])\n",
    "ax.set(xlabel='Number of training examples', ylabel='Error', title='Learning curve for linear regression');\n",
    "ax.legend(['Train', 'Cross Validation']);"
   ]
  },
  {
   "cell_type": "code",
   "execution_count": 97,
   "metadata": {},
   "outputs": [
    {
     "data": {
      "text/html": [
       "<div>\n",
       "<style scoped>\n",
       "    .dataframe tbody tr th:only-of-type {\n",
       "        vertical-align: middle;\n",
       "    }\n",
       "\n",
       "    .dataframe tbody tr th {\n",
       "        vertical-align: top;\n",
       "    }\n",
       "\n",
       "    .dataframe thead th {\n",
       "        text-align: right;\n",
       "    }\n",
       "</style>\n",
       "<table border=\"1\" class=\"dataframe\">\n",
       "  <thead>\n",
       "    <tr style=\"text-align: right;\">\n",
       "      <th></th>\n",
       "      <th>0</th>\n",
       "      <th>1</th>\n",
       "      <th>2</th>\n",
       "      <th>3</th>\n",
       "      <th>4</th>\n",
       "      <th>5</th>\n",
       "      <th>6</th>\n",
       "      <th>7</th>\n",
       "      <th>8</th>\n",
       "      <th>9</th>\n",
       "      <th>10</th>\n",
       "    </tr>\n",
       "  </thead>\n",
       "  <tbody>\n",
       "    <tr>\n",
       "      <th>error_train</th>\n",
       "      <td>9.860761e-32</td>\n",
       "      <td>3.334883e-15</td>\n",
       "      <td>3.286595</td>\n",
       "      <td>2.842678</td>\n",
       "      <td>13.154049</td>\n",
       "      <td>19.443963</td>\n",
       "      <td>20.098522</td>\n",
       "      <td>18.172859</td>\n",
       "      <td>22.609405</td>\n",
       "      <td>23.261462</td>\n",
       "      <td>24.31725</td>\n",
       "    </tr>\n",
       "    <tr>\n",
       "      <th>error_val</th>\n",
       "      <td>1.698707e+02</td>\n",
       "      <td>1.103004e+02</td>\n",
       "      <td>45.010231</td>\n",
       "      <td>48.368911</td>\n",
       "      <td>35.865163</td>\n",
       "      <td>33.829961</td>\n",
       "      <td>31.970985</td>\n",
       "      <td>30.862444</td>\n",
       "      <td>31.135997</td>\n",
       "      <td>28.936204</td>\n",
       "      <td>29.55143</td>\n",
       "    </tr>\n",
       "  </tbody>\n",
       "</table>\n",
       "</div>"
      ],
      "text/plain": [
       "                        0             1          2          3          4  \\\n",
       "error_train  9.860761e-32  3.334883e-15   3.286595   2.842678  13.154049   \n",
       "error_val    1.698707e+02  1.103004e+02  45.010231  48.368911  35.865163   \n",
       "\n",
       "                     5          6          7          8          9        10  \n",
       "error_train  19.443963  20.098522  18.172859  22.609405  23.261462  24.31725  \n",
       "error_val    33.829961  31.970985  30.862444  31.135997  28.936204  29.55143  "
      ]
     },
     "execution_count": 97,
     "metadata": {},
     "output_type": "execute_result"
    }
   ],
   "source": [
    "df_error = pd.DataFrame(data={'error_train': error_train.T[0][1:], 'error_val': error_val.T[0][1:]})\n",
    "df_error.T\n",
    "#by the graph and the error values we can say it is a case of high Bias"
   ]
  },
  {
   "cell_type": "markdown",
   "metadata": {},
   "source": [
    "# Polynomial Regression"
   ]
  },
  {
   "cell_type": "code",
   "execution_count": 131,
   "metadata": {},
   "outputs": [],
   "source": [
    "def poly_features(X, p):\n",
    "    X_poly = np.zeros((X.shape[0], p))\n",
    "    for i in range(p):\n",
    "        X_poly[:,i] = X**(i+1)\n",
    "    return X_poly"
   ]
  },
  {
   "cell_type": "code",
   "execution_count": 132,
   "metadata": {},
   "outputs": [],
   "source": [
    "#Learning Polynomial Regression\n",
    "#Normalizing features\n",
    "def feature_normalize(X, mean=np.zeros(1), std=np.zeros(1)):\n",
    "    X = np.array(X)\n",
    "    if len(mean.shape) == 1 or len(std.shape) == 1:\n",
    "        mean = np.mean(X, axis=0)\n",
    "        std = np.std(X, axis=0, ddof=1)\n",
    "\n",
    "    X = (X - mean)/std\n",
    "    return X, mean, std"
   ]
  },
  {
   "cell_type": "code",
   "execution_count": 133,
   "metadata": {},
   "outputs": [],
   "source": [
    "p = 8 #given in question\n",
    "X_poly = poly_features(mat['X'].T[0], p)\n",
    "X_poly, mu, sigma = feature_normalize(X_poly)\n",
    "X_poly = np.hstack((np.ones((X_poly.shape[0],1)), X_poly))"
   ]
  },
  {
   "cell_type": "code",
   "execution_count": 134,
   "metadata": {},
   "outputs": [],
   "source": [
    "X_poly_test = poly_features(mat['Xtest'].T[0], p)\n",
    "X_poly_test, _, _ = feature_normalize(X_poly_test, mu, sigma)\n",
    "X_poly_test = np.hstack((np.ones((X_poly_test.shape[0],1)), X_poly_test))"
   ]
  },
  {
   "cell_type": "code",
   "execution_count": 135,
   "metadata": {},
   "outputs": [],
   "source": [
    "X_poly_val = poly_features(mat['Xval'].T[0], p)\n",
    "X_poly_val, _, _ = feature_normalize(X_poly_val, mu, sigma)\n",
    "X_poly_val = np.hstack((np.ones((X_poly_val.shape[0],1)), X_poly_val))"
   ]
  },
  {
   "cell_type": "code",
   "execution_count": 136,
   "metadata": {},
   "outputs": [],
   "source": [
    "#training and plotting \n",
    "def train_and_plot_fit_learning_curve(X, X_poly, y, X_poly_val, yval, lambda_r):\n",
    "    theta = train_linear_regression(X_poly, y, lambda_r)\n",
    "\n",
    "    plt.figure(figsize=(15,5))\n",
    "    plt.subplot(121)\n",
    "    ax = sns.scatterplot(x=X[:,1], y=y.T[0])\n",
    "    x = np.arange(np.min(X)-15.0, np.max(X)+25.0, 0.05) #to get proper range of values\n",
    "    plot_X_poly = poly_features(x, p)\n",
    "    plot_X_poly, _, _ = feature_normalize(plot_X_poly, mu, sigma)\n",
    "    plot_X_poly = np.hstack((np.ones((plot_X_poly.shape[0],1)), plot_X_poly))\n",
    "    plt.plot(x, plot_X_poly.dot(theta), 'k--', color='r') #plotting the fit to the data\n",
    "    ax.set(xlabel='Change in water level', ylabel='Water flowing out of the dam', \n",
    "           title='Polynomial Regression Fit ($\\lambda$ = {})'.format(lambda_r));\n",
    "    \n",
    "    error_train, error_val = learning_curve(X_poly, y, X_poly_val, yval, lambda_r)\n",
    "    plt.subplot(122)\n",
    "    sns.lineplot(x=range(1,m), y=error_train.T[0][1:])\n",
    "    ax = sns.lineplot(x=range(1,m), y=error_val.T[0][1:])\n",
    "    ax.set(xlabel='Number of training examples', ylabel='Error', \n",
    "           title='Polynomial Regression Learning Curve ($\\lambda$ = {})'.format(lambda_r));\n",
    "    ax.legend(['Train', 'Cross Validation']); #plotting the Train error Vs cross validation error\n",
    "    \n",
    "    plt.subplots_adjust(wspace=0.2)\n",
    "    plt.show()"
   ]
  },
  {
   "cell_type": "code",
   "execution_count": 137,
   "metadata": {},
   "outputs": [
    {
     "data": {
      "image/png": "[encoded data removed]",
      "text/plain": [
       "<Figure size 1080x360 with 2 Axes>"
      ]
     },
     "metadata": {
      "needs_background": "light"
     },
     "output_type": "display_data"
    }
   ],
   "source": [
    "lambda_r = 0.0\n",
    "train_and_plot_fit_learning_curve(X, X_poly, y, X_poly_val, yval, lambda_r)"
   ]
  },
  {
   "cell_type": "code",
   "execution_count": 138,
   "metadata": {},
   "outputs": [
    {
     "data": {
      "image/png": "[encoded data removed]",
      "text/plain": [
       "<Figure size 1080x360 with 2 Axes>"
      ]
     },
     "metadata": {
      "needs_background": "light"
     },
     "output_type": "display_data"
    }
   ],
   "source": [
    "#Adjusting the regularzitation parameter\n",
    "lambda_r = 1.0\n",
    "train_and_plot_fit_learning_curve(X, X_poly, y, X_poly_val, yval, lambda_r)"
   ]
  },
  {
   "cell_type": "code",
   "execution_count": 139,
   "metadata": {},
   "outputs": [
    {
     "data": {
      "image/png": "[encoded data removed]",
      "text/plain": [
       "<Figure size 1080x360 with 2 Axes>"
      ]
     },
     "metadata": {
      "needs_background": "light"
     },
     "output_type": "display_data"
    }
   ],
   "source": [
    "lambda_r = 100.0\n",
    "train_and_plot_fit_learning_curve(X, X_poly, y, X_poly_val, yval, lambda_r)"
   ]
  },
  {
   "cell_type": "code",
   "execution_count": 140,
   "metadata": {},
   "outputs": [],
   "source": [
    "#selecting lambda using validation set\n",
    "def validation_curve(X, y, Xval, yval):\n",
    "    lambda_values = np.array([0, 0.001, 0.003, 0.01, 0.03, 0.1, 0.3, 1, 3, 10])\n",
    "    error_train = np.zeros((len(lambda_values),1))\n",
    "    error_val = np.zeros((len(lambda_values),1))\n",
    "    for i,l in enumerate(lambda_values):\n",
    "        theta = train_linear_regression(X, y, l)\n",
    "        error_train[i], _ = linear_regression_cost_function(theta, X, y, 0)\n",
    "        error_val[i], _ = linear_regression_cost_function(theta, Xval, yval, 0)\n",
    "    return lambda_values, error_train, error_val"
   ]
  },
  {
   "cell_type": "code",
   "execution_count": 141,
   "metadata": {},
   "outputs": [],
   "source": [
    "lambda_values, error_train, error_val = validation_curve(X_poly, y, X_poly_val, yval)"
   ]
  },
  {
   "cell_type": "code",
   "execution_count": 142,
   "metadata": {},
   "outputs": [
    {
     "data": {
      "image/png": "[encoded data removed]",
      "text/plain": [
       "<Figure size 432x288 with 1 Axes>"
      ]
     },
     "metadata": {
      "needs_background": "light"
     },
     "output_type": "display_data"
    }
   ],
   "source": [
    "sns.lineplot(x=np.array(lambda_values), y=error_train.T[0])\n",
    "ax = sns.lineplot(x=lambda_values, y=error_val.T[0])\n",
    "ax.set(xlabel='$\\lambda$', ylabel='Error', title='Validation curve');\n",
    "ax.legend(['Train', 'Cross Validation']);"
   ]
  },
  {
   "cell_type": "code",
   "execution_count": 145,
   "metadata": {},
   "outputs": [
    {
     "data": {
      "text/plain": [
       "array([[11.64373681]])"
      ]
     },
     "execution_count": 145,
     "metadata": {},
     "output_type": "execute_result"
    }
   ],
   "source": [
    "theta = train_linear_regression(X_poly, y, 3.0)\n",
    "J, grad = linear_regression_cost_function(theta, X_poly_test, mat['ytest'], 0)\n",
    "J"
   ]
  },
  {
   "cell_type": "code",
   "execution_count": null,
   "metadata": {},
   "outputs": [],
   "source": []
  },
  {
   "cell_type": "code",
   "execution_count": null,
   "metadata": {},
   "outputs": [],
   "source": []
  }
 ],
 "metadata": {
  "kernelspec": {
   "display_name": "Python 3",
   "language": "python",
   "name": "python3"
  },
  "language_info": {
   "codemirror_mode": {
    "name": "ipython",
    "version": 3
   },
   "file_extension": ".py",
   "mimetype": "text/x-python",
   "name": "python",
   "nbconvert_exporter": "python",
   "pygments_lexer": "ipython3",
   "version": "3.7.6"
  }
 },
 "nbformat": 4,
 "nbformat_minor": 4
}
